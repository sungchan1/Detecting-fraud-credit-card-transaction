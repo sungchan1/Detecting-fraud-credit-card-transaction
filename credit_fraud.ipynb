{
  "nbformat": 4,
  "nbformat_minor": 0,
  "metadata": {
    "colab": {
      "name": "credit_fraud.ipynb",
      "private_outputs": true,
      "provenance": [],
      "toc_visible": true,
      "mount_file_id": "1o5EsquW6j1DenYMczlL8_p1js_Lnz04e",
      "authorship_tag": "ABX9TyM+pZbLsDjtlXemA5rJQAfw",
      "include_colab_link": true
    },
    "kernelspec": {
      "name": "python3",
      "display_name": "Python 3"
    },
    "language_info": {
      "name": "python"
    },
    "accelerator": "TPU"
  },
  "cells": [
    {
      "cell_type": "markdown",
      "metadata": {
        "id": "view-in-github",
        "colab_type": "text"
      },
      "source": [
        "<a href=\"https://colab.research.google.com/github/sungchan1/goingSaboho/blob/gwangseok/credit_fraud.ipynb\" target=\"_parent\"><img src=\"https://colab.research.google.com/assets/colab-badge.svg\" alt=\"Open In Colab\"/></a>"
      ]
    },
    {
      "cell_type": "code",
      "metadata": {
        "id": "bSrRpPDp98Kx"
      },
      "source": [
        "import numpy as np\n",
        "from sklearn.preprocessing import StandardScaler\n",
        "\n",
        "df = pd.read_csv('/content/drive/MyDrive/colab/data/creditcard.csv')\n",
        "std_scaler = StandardScaler()\n",
        "\n",
        "df.insert(29, 'scaled_amount', std_scaler.fit_transform(df['Amount'].values.reshape(-1,1)))\n",
        "df.drop(['Amount'], axis=1, inplace=True)"
      ],
      "execution_count": null,
      "outputs": []
    },
    {
      "cell_type": "code",
      "metadata": {
        "id": "-Js3fIvdydvw"
      },
      "source": [
        "cd \"/content/drive/My Drive/Credit_fraud\""
      ],
      "execution_count": null,
      "outputs": []
    },
    {
      "cell_type": "code",
      "metadata": {
        "id": "PRs9eUBCylmo"
      },
      "source": [
        "!git config --global user.email 'hks8946@gmail.com'\n",
        "!git config --global user.name 'c0natus'"
      ],
      "execution_count": null,
      "outputs": []
    },
    {
      "cell_type": "code",
      "metadata": {
        "id": "iscjT1HrzZPP"
      },
      "source": [
        "!git push -u origin gwangseok"
      ],
      "execution_count": null,
      "outputs": []
    }
  ]
}