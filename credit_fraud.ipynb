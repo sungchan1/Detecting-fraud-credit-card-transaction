{
  "nbformat": 4,
  "nbformat_minor": 0,
  "metadata": {
    "colab": {
      "name": "credit_fraud.ipynb",
      "private_outputs": true,
      "provenance": [],
      "include_colab_link": true
    },
    "kernelspec": {
      "name": "python3",
      "display_name": "Python 3"
    },
    "language_info": {
      "name": "python"
    },
    "accelerator": "TPU"
  },
  "cells": [
    {
      "cell_type": "markdown",
      "metadata": {
        "id": "view-in-github",
        "colab_type": "text"
      },
      "source": [
        "<a href=\"https://colab.research.google.com/github/sungchan1/goingSaboho/blob/gwangseok/credit_fraud.ipynb\" target=\"_parent\"><img src=\"https://colab.research.google.com/assets/colab-badge.svg\" alt=\"Open In Colab\"/></a>"
      ]
    },
    {
      "cell_type": "code",
      "metadata": {
        "id": "bSrRpPDp98Kx"
      },
      "source": [
        "import pandas as pd\n",
        "import numpy as np\n",
        "from sklearn.preprocessing import StandardScaler, RobustScaler\n",
        "\n",
        "df = pd.read_csv('/content/drive/MyDrive/Credit_fraud/data/creditcard.csv')\n",
        "std_scaler = StandardScaler()\n",
        "rob_scaler = RobustScaler()\n",
        "\n",
        "\n",
        "df['Time'] = std_scaler.fit_transform(df['Time'].values.reshape(-1,1))\n",
        "df['Amount'] = std_scaler.fit_transform(df['Amount'].values.reshape(-1,1))"
      ],
      "execution_count": null,
      "outputs": []
    },
    {
      "cell_type": "code",
      "metadata": {
        "id": "nPxfF96LrBBL"
      },
      "source": [
        "# data distribution 시각화\n",
        "\n",
        "import seaborn as sns\n",
        "import matplotlib.pyplot as plt\n",
        "\n",
        "\n",
        "row_cnt = len(df)\n",
        "zero_cnt = df['Class'].value_counts()[0]\n",
        "one_cnt = df['Class'].value_counts()[1]\n",
        "ratio_no_fraud = round(zero_cnt/row_cnt * 100,2)\n",
        "ratio_fraud = round(one_cnt/row_cnt * 100,2)\n",
        "\n",
        "\n",
        "colors = [\"#0101DF\", \"#DF0101\"]\n",
        "sns.countplot('Class', data=df, palette=colors)\n",
        "plt.title(f'Class Distributions \\n (0: No Fraud ({zero_cnt}, {ratio_no_fraud} %) '\n",
        "          f'\\n (1: Fraud ({one_cnt}, {ratio_fraud} %))', fontsize=14)\n",
        "\n",
        "plt.show()"
      ],
      "execution_count": null,
      "outputs": []
    },
    {
      "cell_type": "code",
      "metadata": {
        "id": "wNZFF6eqN3-M"
      },
      "source": [
        "# Data Correlation Matrices\n",
        "\n",
        "# pandas corr를 통해 피어슨 상관계수 사용\n",
        "corr = df.corr()\n",
        "plt.figure(figsize=(24,10))\n",
        "ax=sns.heatmap(corr, cmap='coolwarm_r', annot_kws={'size':20})\n",
        "ax.set_title(\"Correlation Matrix\", fontsize=14)\n",
        "\n",
        "plt.show()"
      ],
      "execution_count": null,
      "outputs": []
    },
    {
      "cell_type": "code",
      "metadata": {
        "id": "HnpvC8vxvWvS"
      },
      "source": [
        "from sklearn.model_selection import train_test_split, StratifiedShuffleSplit, StratifiedKFold\n",
        "\n",
        "# UnderSampling 하기 전에 original dataframe을 test와 train으로 나눈다.\n",
        "# Under 혹은 OverSampling 이후 원래 데이터로 검증하기 위해서이다.\n",
        "\n",
        "X = df.drop('Class',axis=1)\n",
        "y = df['Class']\n",
        "\n",
        "# random_state : 난수 값을 지정하면 여러번 다시 수행해도 동일한 결과가 나오게 해줌\n",
        "# shuffle : 데이터를 분리하기 전에 데이터를 미리 섞을지 결정\n",
        "# test : train = 4 : 1\n",
        "sss = StratifiedKFold(n_splits=5, random_state=None, shuffle=False)\n",
        "\n",
        "for train_index, test_index in sss.split(X, y):\n",
        "    original_Xtrain, original_Xtest = X.iloc[train_index], X.iloc[test_index]\n",
        "    original_ytrain, original_ytest = y.iloc[train_index], y.iloc[test_index]\n",
        "\n",
        "# 배열로 바꾸기\n",
        "original_Xtrain = original_Xtrain.values\n",
        "original_Xtest = original_Xtest.values\n",
        "original_ytrain = original_ytrain.values\n",
        "original_ytest = original_ytest.values"
      ],
      "execution_count": null,
      "outputs": []
    },
    {
      "cell_type": "code",
      "metadata": {
        "id": "lWANksx4KtES"
      },
      "source": [
        "# UnderSampling : NearMiss algorithm\n",
        "\n",
        "# dataframe.sample(frac=1) : data를 뽑기전 random하게 섞기\n",
        "df = df.sample(frac=1)\n",
        "\n",
        "# fraud의 수가 492개 이므로 492개의 non_fraud를 가져온다.\n",
        "fraud_df = df.loc[df['Class'] == 1]\n",
        "non_fraud_df = df.loc[df['Class'] == 0][:492]\n",
        "\n",
        "# pd.concat: data frame 합치기\n",
        "undersampling_df = pd.concat([fraud_df, non_fraud_df]).sample(frac=1)"
      ],
      "execution_count": null,
      "outputs": []
    },
    {
      "cell_type": "code",
      "metadata": {
        "id": "HTSGOD0uNh6g"
      },
      "source": [
        "# undersampling data distribution 시각화\n",
        "\n",
        "u_zero_cnt = undersampling_df['Class'].value_counts()[0]\n",
        "u_one_cnt = undersampling_df['Class'].value_counts()[1]\n",
        "sns.countplot('Class', data=undersampling_df, palette=colors)\n",
        "plt.title(f'Equally Distributed Classes \\n (0: No Fraud ({u_zero_cnt})'\n",
        "            f'\\n (1: Fraud ({u_one_cnt})', fontsize=14)\n",
        "plt.show()"
      ],
      "execution_count": null,
      "outputs": []
    },
    {
      "cell_type": "code",
      "metadata": {
        "id": "sd_N04uUPXy4"
      },
      "source": [
        "# undersampling data correlation\n",
        "# pandas corr를 통해 피어슨 상관계수 사용\n",
        "plt.figure(figsize=(24,10))\n",
        "\n",
        "sub_sample_corr = undersampling_df.corr()\n",
        "sns.heatmap(sub_sample_corr, cmap='coolwarm_r', annot_kws={'size':20})\n",
        "ax2.set_title('SubSample Correlation Matrix \\n (use for reference)', fontsize=14)\n",
        "plt.show()\n",
        "# heatmap의 class를 보자.\n",
        "# V10, V12, V14, V17은 음의 상관계수를 가진다. 즉, 이 값들이 작을수록 fraud인 것이다.\n",
        "# 반대로 V2, V4, V11, V19는 양의 상관계수를 가진다. 즉, 이 값들이 클수록 fraud인 것이다."
      ],
      "execution_count": null,
      "outputs": []
    },
    {
      "cell_type": "code",
      "metadata": {
        "id": "_YBXwpkrZ2ud"
      },
      "source": [
        "# v10, v12, v14, v17 outlier 확인하기\n",
        "f, axes = plt.subplots(ncols=4, figsize=(20,4))\n",
        "\n",
        "# Negative Correlations with our Class (The lower our feature value the more likely it will be a fraud transaction)\n",
        "sns.boxplot(x=\"Class\", y=\"V10\", data=undersampling_df, palette=colors, ax=axes[0])\n",
        "axes[0].set_title('V10 vs Class Negative Correlation')\n",
        "\n",
        "sns.boxplot(x=\"Class\", y=\"V12\", data=undersampling_df, palette=colors, ax=axes[1])\n",
        "axes[1].set_title('V12 vs Class Negative Correlation')\n",
        "\n",
        "\n",
        "sns.boxplot(x=\"Class\", y=\"V14\", data=undersampling_df, palette=colors, ax=axes[2])\n",
        "axes[2].set_title('V14 vs Class Negative Correlation')\n",
        "\n",
        "\n",
        "sns.boxplot(x=\"Class\", y=\"V17\", data=undersampling_df, palette=colors, ax=axes[3])\n",
        "axes[3].set_title('V17 vs Class Negative Correlation')\n",
        "\n",
        "plt.show()"
      ],
      "execution_count": null,
      "outputs": []
    },
    {
      "cell_type": "code",
      "metadata": {
        "id": "pAy4hFi7adDb"
      },
      "source": [
        "# v2, v4, v11, v19 outlier 확인하기\n",
        "f, axes = plt.subplots(ncols=4, figsize=(20,4))\n",
        "\n",
        "# Positive correlations (The higher the feature the probability increases that it will be a fraud transaction)\n",
        "sns.boxplot(x=\"Class\", y=\"V2\", data=undersampling_df, palette=colors, ax=axes[0])\n",
        "axes[0].set_title('V2 vs Class Positive Correlation')\n",
        "\n",
        "sns.boxplot(x=\"Class\", y=\"V4\", data=undersampling_df, palette=colors, ax=axes[1])\n",
        "axes[1].set_title('V4 vs Class Positive Correlation')\n",
        "\n",
        "\n",
        "sns.boxplot(x=\"Class\", y=\"V11\", data=undersampling_df, palette=colors, ax=axes[2])\n",
        "axes[2].set_title('V11 vs Class Positive Correlation')\n",
        "\n",
        "\n",
        "sns.boxplot(x=\"Class\", y=\"V19\", data=undersampling_df, palette=colors, ax=axes[3])\n",
        "axes[3].set_title('V19 vs Class Positive Correlation')\n",
        "\n",
        "plt.show()"
      ],
      "execution_count": null,
      "outputs": []
    },
    {
      "cell_type": "code",
      "metadata": {
        "id": "jF9IIpkRUZ7s"
      },
      "source": [
        "# V10, V12, V14, V17 data의 분포와 정규분포\n",
        "# V14만 정규분포 형태를 띄고 있다.\n",
        "from scipy.stats import norm\n",
        "\n",
        "f, (ax1, ax2, ax3, ax4) = plt.subplots(1,4, figsize=(20, 6))\n",
        "\n",
        "v10_fraud_dist = undersampling_df['V10'].loc[undersampling_df['Class'] == 1].values\n",
        "sns.distplot(v10_fraud_dist,ax=ax1, fit=norm, color='#C5B3F9')\n",
        "ax1.set_title('V10 Distribution \\n (Fraud Transactions)', fontsize=14)\n",
        "\n",
        "v14_fraud_dist = undersampling_df['V14'].loc[undersampling_df['Class'] == 1].values\n",
        "sns.distplot(v14_fraud_dist,ax=ax3, fit=norm, color='#FB8861')\n",
        "ax3.set_title('V14 Distribution \\n (Fraud Transactions)', fontsize=14)\n",
        "\n",
        "v12_fraud_dist = undersampling_df['V12'].loc[undersampling_df['Class'] == 1].values\n",
        "sns.distplot(v12_fraud_dist,ax=ax2, fit=norm, color='#56F9BB')\n",
        "ax2.set_title('V12 Distribution \\n (Fraud Transactions)', fontsize=14)\n",
        "\n",
        "v17_fraud_dist = undersampling_df['V17'].loc[undersampling_df['Class'] == 1].values\n",
        "sns.distplot(v17_fraud_dist,ax=ax4, fit=norm, color='#C5B3F9')\n",
        "ax4.set_title('V17 Distribution \\n (Fraud Transactions)', fontsize=14)\n",
        "\n",
        "plt.show()"
      ],
      "execution_count": null,
      "outputs": []
    },
    {
      "cell_type": "code",
      "metadata": {
        "id": "wuWXBvk1bYtz"
      },
      "source": [
        "# V2, V4, V11, V19 data의 분포와 정규분포\n",
        "f, (ax1, ax2, ax3, ax4) = plt.subplots(1,4, figsize=(20, 6))\n",
        "\n",
        "v2_fraud_dist = undersampling_df['V2'].loc[undersampling_df['Class'] == 1].values\n",
        "sns.distplot(v2_fraud_dist,ax=ax1, fit=norm, color='#C5B3F9')\n",
        "ax1.set_title('V2 Distribution \\n (Fraud Transactions)', fontsize=14)\n",
        "\n",
        "v4_fraud_dist = undersampling_df['V4'].loc[undersampling_df['Class'] == 1].values\n",
        "sns.distplot(v4_fraud_dist,ax=ax3, fit=norm, color='#FB8861')\n",
        "ax3.set_title('V4 Distribution \\n (Fraud Transactions)', fontsize=14)\n",
        "\n",
        "v11_fraud_dist = undersampling_df['V11'].loc[undersampling_df['Class'] == 1].values\n",
        "sns.distplot(v11_fraud_dist,ax=ax2, fit=norm, color='#56F9BB')\n",
        "ax2.set_title('V11 Distribution \\n (Fraud Transactions)', fontsize=14)\n",
        "\n",
        "v19_fraud_dist = undersampling_df['V19'].loc[undersampling_df['Class'] == 1].values\n",
        "sns.distplot(v19_fraud_dist,ax=ax4, fit=norm, color='#C5B3F9')\n",
        "ax4.set_title('V19 Distribution \\n (Fraud Transactions)', fontsize=14)\n",
        "\n",
        "plt.show()"
      ],
      "execution_count": null,
      "outputs": []
    },
    {
      "cell_type": "code",
      "metadata": {
        "id": "HItmU8hkXGLa"
      },
      "source": [
        "# Anomaly Detection: remove \"extreme outliers\"\n",
        "# Interquartile Range 방법을 사용해 25% 아래이거나 75% 위에 있는 data를 제거한다.\n",
        "\n",
        "# V2 outliers 제거\n",
        "v2_fraud = undersampling_df['V2']\n",
        "q25, q75 = np.percentile(v2_fraud, 25), np.percentile(v2_fraud, 75)\n",
        "v2_iqr = q75 - q25\n",
        "v2_cut_off = v10_iqr * 1.5\n",
        "v2_lower, v2_upper = q25 - v2_cut_off, q75 + v2_cut_off\n",
        "outliers = [x for x in v2_fraud if x < v2_lower or x > v2_upper]\n",
        "undersampling_df = undersampling_df.drop(undersampling_df[(undersampling_df['V2'] > v2_upper) | (undersampling_df['V2'] < v2_lower)].index)\n",
        "\n",
        "# v11 outliers 제거\n",
        "v11_fraud = undersampling_df['V11']\n",
        "q25, q75 = np.percentile(v11_fraud, 25), np.percentile(v11_fraud, 75)\n",
        "v11_iqr = q75 - q25\n",
        "v11_cut_off = v11_iqr * 1.5\n",
        "v11_lower, v11_upper = q25 - v11_cut_off, q75 + v11_cut_off\n",
        "outliers = [x for x in v11_fraud if x < v11_lower or x > v11_upper]\n",
        "undersampling_df = undersampling_df.drop(undersampling_df[(undersampling_df['V11'] > v11_upper) | (undersampling_df['V11'] < v11_lower)].index)\n",
        "\n",
        "# v19 outliers 제거\n",
        "v19_fraud = undersampling_df['V19']\n",
        "q25, q75 = np.percentile(v19_fraud, 25), np.percentile(v19_fraud, 75)\n",
        "v19_iqr = q75 - q25\n",
        "v19_cut_off = v19_iqr * 1.5\n",
        "v19_lower, v19_upper = q25 - v19_cut_off, q75 + v19_cut_off\n",
        "outliers = [x for x in v19_fraud if x < v19_lower or x > v19_upper]\n",
        "undersampling_df = undersampling_df.drop(undersampling_df[(undersampling_df['V19'] > v19_upper) | (undersampling_df['V19'] < v19_lower)].index)\n",
        "\n",
        "\n",
        "# V10 outliers 제거\n",
        "v10_fraud = undersampling_df['V10']\n",
        "q25, q75 = np.percentile(v10_fraud, 25), np.percentile(v10_fraud, 75)\n",
        "v10_iqr = q75 - q25\n",
        "v10_cut_off = v10_iqr * 1.5\n",
        "v10_lower, v10_upper = q25 - v10_cut_off, q75 + v10_cut_off\n",
        "outliers = [x for x in v10_fraud if x < v10_lower or x > v10_upper]\n",
        "undersampling_df = undersampling_df.drop(undersampling_df[(undersampling_df['V10'] > v10_upper) | (undersampling_df['V10'] < v10_lower)].index)\n",
        "\n",
        "# V12 outliers 제거\n",
        "v12_fraud = undersampling_df['V12'].loc[undersampling_df['Class'] == 1].values\n",
        "q25, q75 = np.percentile(v12_fraud, 25), np.percentile(v12_fraud, 75)\n",
        "v12_iqr = q75 - q25\n",
        "v12_cut_off = v12_iqr * 1.5\n",
        "v12_lower, v12_upper = q25 - v12_cut_off, q75 + v12_cut_off\n",
        "outliers = [x for x in v12_fraud if x < v12_lower or x > v12_upper]\n",
        "undersampling_df = undersampling_df.drop(undersampling_df[(undersampling_df['V12'] > v12_upper) | (undersampling_df['V12'] < v12_lower)].index)\n",
        "\n",
        "# v14 outliers 제거\n",
        "v14_fraud = undersampling_df['V14'].loc[undersampling_df['Class'] == 1].values\n",
        "q25, q75 = np.percentile(v14_fraud, 25), np.percentile(v14_fraud, 75)\n",
        "v14_iqr = q75 - q25\n",
        "v14_cut_off = v14_iqr * 1.5\n",
        "v14_lower, v14_upper = q25 - v14_cut_off, q75 + v14_cut_off\n",
        "outliers = [x for x in v14_fraud if x < v14_lower or x > v14_upper]\n",
        "undersampling_df = undersampling_df.drop(undersampling_df[(undersampling_df['V14'] > v14_upper) | (undersampling_df['V14'] < v14_lower)].index)"
      ],
      "execution_count": null,
      "outputs": []
    },
    {
      "cell_type": "code",
      "metadata": {
        "id": "SWxyxhiZdXlL"
      },
      "source": [
        "f,([ax1, ax2, ax3], [ax4, ax5, ax6]) = plt.subplots(2, 3, figsize=(20,16))\n",
        "# Feature V10\n",
        "sns.boxplot(x=\"Class\", y=\"V10\", data=undersampling_df, ax=ax1, palette=colors)\n",
        "ax1.set_title(\"V10 Feature \\n Reduction of outliers\", fontsize=14)\n",
        "# Feature V12\n",
        "sns.boxplot(x=\"Class\", y=\"V12\", data=undersampling_df, ax=ax2, palette=colors)\n",
        "ax2.set_title(\"V12 Feature \\n Reduction of outliers\", fontsize=14)\n",
        "\n",
        "# Feature V14\n",
        "sns.boxplot(x=\"Class\", y=\"V14\", data=undersampling_df,ax=ax3, palette=colors)\n",
        "ax3.set_title(\"V14 Feature \\n Reduction of outliers\", fontsize=14)\n",
        "\n",
        "# Feature V2\n",
        "sns.boxplot(x=\"Class\", y=\"V2\", data=undersampling_df,ax=ax4, palette=colors)\n",
        "ax4.set_title(\"V2 Feature \\n Reduction of outliers\", fontsize=14)\n",
        "\n",
        "# Feature V11\n",
        "sns.boxplot(x=\"Class\", y=\"V11\", data=undersampling_df,ax=ax5, palette=colors)\n",
        "ax5.set_title(\"V11 Feature \\n Reduction of outliers\", fontsize=14)\n",
        "\n",
        "# Feature V19\n",
        "sns.boxplot(x=\"Class\", y=\"V19\", data=undersampling_df,ax=ax6, palette=colors)\n",
        "ax6.set_title(\"V19 Feature \\n Reduction of outliers\", fontsize=14)\n",
        "\n",
        "\n",
        "\n",
        "plt.show()"
      ],
      "execution_count": null,
      "outputs": []
    },
    {
      "cell_type": "code",
      "metadata": {
        "id": "MZj4---1cUP_"
      },
      "source": [
        "# 차원 줄이기\n",
        "from sklearn.manifold import TSNE\n",
        "from sklearn.decomposition import PCA"
      ],
      "execution_count": null,
      "outputs": []
    }
  ]
}